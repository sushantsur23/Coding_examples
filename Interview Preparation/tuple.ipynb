{
 "cells": [
  {
   "cell_type": "markdown",
   "metadata": {},
   "source": [
    "What is a tuple and why is it used?\n",
    "\n",
    "\n",
    "A tuple is a data structure which is used store heterogeneous data meaning data of different types. A tuple is used to group together related data such as a dog name, height, weight, breed, and color (I love dogs). A tuple comprises several values separated by commas."
   ]
  },
  {
   "cell_type": "code",
   "execution_count": 2,
   "metadata": {},
   "outputs": [
    {
     "name": "stdout",
     "output_type": "stream",
     "text": [
      "(\"Today's\", 'Date', 'Is', 15, 'August', 2019)\n",
      "(\"Today's\", 'Date', 'Is')\n"
     ]
    }
   ],
   "source": [
    "tuple = (\"Today's\", \"Date\", \"Is\", 15, \"August\", 2019)\n",
    "print(tuple)\n",
    "print(tuple[:3])"
   ]
  },
  {
   "cell_type": "markdown",
   "metadata": {},
   "source": [
    "How to nest or combine two tuples?"
   ]
  },
  {
   "cell_type": "code",
   "execution_count": 3,
   "metadata": {},
   "outputs": [
    {
     "name": "stdout",
     "output_type": "stream",
     "text": [
      "((\"Today's\", 'Date', 'Is', 15, 'August', 2019), ('And', 'its', 'Thursday'))\n"
     ]
    }
   ],
   "source": [
    "tuple1 = (\"And\", \"its\", \"Thursday\")\n",
    "nest = tuple, tuple1\n",
    "print(nest)"
   ]
  },
  {
   "cell_type": "markdown",
   "metadata": {},
   "source": [
    "Are tuples immutable or mutable?\n",
    "\n",
    "Before answering the question you should know that immutable values are unchangeable and mutable values are changeable. Now let's answer the question, the answer is tuples are immutable, yes once a tuple is created we can never change their values. Don't believe me, I'll prove it to you.\n",
    "\n"
   ]
  },
  {
   "cell_type": "code",
   "execution_count": 4,
   "metadata": {},
   "outputs": [
    {
     "ename": "TypeError",
     "evalue": "'tuple' object does not support item assignment",
     "output_type": "error",
     "traceback": [
      "\u001b[1;31m---------------------------------------------------------------------------\u001b[0m",
      "\u001b[1;31mTypeError\u001b[0m                                 Traceback (most recent call last)",
      "Cell \u001b[1;32mIn [4], line 1\u001b[0m\n\u001b[1;32m----> 1\u001b[0m \u001b[38;5;28;43mtuple\u001b[39;49m\u001b[43m[\u001b[49m\u001b[38;5;241;43m0\u001b[39;49m\u001b[43m]\u001b[49m \u001b[38;5;241m=\u001b[39m (\u001b[38;5;124m\"\u001b[39m\u001b[38;5;124mHi\u001b[39m\u001b[38;5;124m\"\u001b[39m)\n\u001b[0;32m      2\u001b[0m \u001b[38;5;28mprint\u001b[39m(\u001b[38;5;28mtuple\u001b[39m)\n",
      "\u001b[1;31mTypeError\u001b[0m: 'tuple' object does not support item assignment"
     ]
    }
   ],
   "source": [
    "tuple[0] = (\"Hi\")\n",
    "print(tuple)"
   ]
  },
  {
   "cell_type": "markdown",
   "metadata": {},
   "source": [
    "#### Hence the above proves that tuples are immutable in nature"
   ]
  },
  {
   "cell_type": "code",
   "execution_count": 5,
   "metadata": {},
   "outputs": [
    {
     "name": "stdout",
     "output_type": "stream",
     "text": [
      "Today's\n",
      "Date\n",
      "Is\n",
      "15\n",
      "August\n",
      "2019\n"
     ]
    }
   ],
   "source": [
    "### How can you loop through a tuple?\n",
    "\n",
    "for i in tuple:\n",
    "    print(i)"
   ]
  },
  {
   "cell_type": "code",
   "execution_count": 6,
   "metadata": {},
   "outputs": [
    {
     "name": "stdout",
     "output_type": "stream",
     "text": [
      "0 Today's\n",
      "1 Date\n",
      "2 Is\n",
      "3 15\n",
      "4 August\n",
      "5 2019\n"
     ]
    }
   ],
   "source": [
    "### How to access the index of the tuple using a loop?\n",
    "for counter, value in enumerate(tuple):\n",
    "    print(counter, value)\n"
   ]
  },
  {
   "cell_type": "markdown",
   "metadata": {},
   "source": [
    "Can we remove the values or items from the tuples?\n",
    "\n",
    "The answer is No, you cannot remove the values or items from the tuples but you can delete the tuple completely. This is because tuples are immutable."
   ]
  },
  {
   "cell_type": "code",
   "execution_count": 7,
   "metadata": {},
   "outputs": [
    {
     "name": "stdout",
     "output_type": "stream",
     "text": [
      "<class 'tuple'>\n"
     ]
    }
   ],
   "source": [
    "del tuple\n",
    "print(tuple)"
   ]
  },
  {
   "cell_type": "markdown",
   "metadata": {},
   "source": [
    "As seen above the entire tuple can be deleted using del, so when we print the tuple you can see that there are no elements in it."
   ]
  },
  {
   "cell_type": "code",
   "execution_count": 11,
   "metadata": {},
   "outputs": [
    {
     "name": "stdout",
     "output_type": "stream",
     "text": [
      "2\n"
     ]
    }
   ],
   "source": [
    "#### How to count the number of times the values have appeared in the tuple?\n",
    "\n",
    "tuple = (\"Today's\", \"Date\", \"Is\", 15, \"August\", 2019, \"And\", \"Day\", \"Is\", \"Thursday\")\n",
    "print(tuple.count(\"Is\"))"
   ]
  },
  {
   "cell_type": "code",
   "execution_count": 13,
   "metadata": {},
   "outputs": [
    {
     "name": "stdout",
     "output_type": "stream",
     "text": [
      "1\n"
     ]
    }
   ],
   "source": [
    "print(tuple.index(\"Date\"))"
   ]
  },
  {
   "cell_type": "markdown",
   "metadata": {},
   "source": [
    "How to check if the value is present inside a tuple or not?"
   ]
  },
  {
   "cell_type": "code",
   "execution_count": 14,
   "metadata": {},
   "outputs": [
    {
     "name": "stdout",
     "output_type": "stream",
     "text": [
      "True\n",
      "4\n"
     ]
    }
   ],
   "source": [
    "if \"August\" in tuple:\n",
    "    print(True)\n",
    "    print(tuple.index(\"August\"))\n",
    "else:\n",
    "    print(False)"
   ]
  },
  {
   "cell_type": "code",
   "execution_count": null,
   "metadata": {},
   "outputs": [],
   "source": []
  }
 ],
 "metadata": {
  "kernelspec": {
   "display_name": "base",
   "language": "python",
   "name": "python3"
  },
  "language_info": {
   "codemirror_mode": {
    "name": "ipython",
    "version": 3
   },
   "file_extension": ".py",
   "mimetype": "text/x-python",
   "name": "python",
   "nbconvert_exporter": "python",
   "pygments_lexer": "ipython3",
   "version": "3.9.12"
  }
 },
 "nbformat": 4,
 "nbformat_minor": 2
}
