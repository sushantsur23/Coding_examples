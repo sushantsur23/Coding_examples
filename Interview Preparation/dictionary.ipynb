{
 "cells": [
  {
   "cell_type": "code",
   "execution_count": 1,
   "id": "2631eae0",
   "metadata": {},
   "outputs": [
    {
     "name": "stdout",
     "output_type": "stream",
     "text": [
      "{'apple': 110.00000000000001, 'banana': 66.0, 'cherry': 132.0}\n"
     ]
    }
   ],
   "source": [
    "# Increase each value by 10%\n",
    "prices = {'apple': 100, 'banana': 60, 'cherry': 120}\n",
    "\n",
    "for key in prices:\n",
    "    prices[key] *= 1.1  # Increase by 10%\n",
    "\n",
    "print(prices)\n",
    "# Output: {'apple': 110.0, 'banana': 66.0, 'cherry': 132.0}\n"
   ]
  },
  {
   "cell_type": "markdown",
   "id": "f5314b4b",
   "metadata": {},
   "source": [
    "Counting Duplicates Using a Dictionary"
   ]
  },
  {
   "cell_type": "code",
   "execution_count": 2,
   "id": "4120220f",
   "metadata": {},
   "outputs": [
    {
     "name": "stdout",
     "output_type": "stream",
     "text": [
      "{'apple': 3, 'banana': 2, 'orange': 1}\n"
     ]
    }
   ],
   "source": [
    "# Count word frequencies in a list\n",
    "words = ['apple', 'banana', 'apple', 'orange', 'banana', 'apple']\n",
    "word_count = {}\n",
    "\n",
    "for word in words:\n",
    "    word_count[word] = word_count.get(word, 0) + 1\n",
    "\n",
    "print(word_count)\n",
    "# Output: {'apple': 3, 'banana': 2, 'orange': 1}\n"
   ]
  },
  {
   "cell_type": "code",
   "execution_count": 3,
   "id": "5fd924b0",
   "metadata": {},
   "outputs": [
    {
     "name": "stdout",
     "output_type": "stream",
     "text": [
      "{'Alice': 85, 'Charlie': 90}\n"
     ]
    }
   ],
   "source": [
    "# Create a new dictionary with only items above a threshold\n",
    "scores = {'Alice': 85, 'Bob': 70, 'Charlie': 90}\n",
    "passed = {name: score for name, score in scores.items() if score >= 80}\n",
    "\n",
    "print(passed)\n",
    "# Output: {'Alice': 85, 'Charlie': 90}\n"
   ]
  },
  {
   "cell_type": "markdown",
   "id": "58c18390",
   "metadata": {},
   "source": [
    "Group Items Using Dictionary (e.g., Group Anagrams)"
   ]
  },
  {
   "cell_type": "code",
   "execution_count": 4,
   "id": "8f8ae6e0",
   "metadata": {},
   "outputs": [
    {
     "name": "stdout",
     "output_type": "stream",
     "text": [
      "{'abt': ['bat', 'tab'], 'act': ['cat', 'act', 'tac']}\n"
     ]
    }
   ],
   "source": [
    "from collections import defaultdict\n",
    "\n",
    "words = ['bat', 'tab', 'cat', 'act', 'tac']\n",
    "anagrams = defaultdict(list)\n",
    "\n",
    "for word in words:\n",
    "    key = ''.join(sorted(word))\n",
    "    anagrams[key].append(word)\n",
    "\n",
    "print(dict(anagrams))\n",
    "# Output: {'abt': ['bat', 'tab'], 'act': ['cat', 'act', 'tac']}\n"
   ]
  },
  {
   "cell_type": "markdown",
   "id": "8b8534e6",
   "metadata": {},
   "source": [
    "Find Most Frequent Element Using Dictionary"
   ]
  },
  {
   "cell_type": "code",
   "execution_count": 5,
   "id": "c6fa2af0",
   "metadata": {},
   "outputs": [
    {
     "name": "stdout",
     "output_type": "stream",
     "text": [
      "1\n"
     ]
    }
   ],
   "source": [
    "nums = [1, 2, 2, 3, 1, 2, 4, 1]\n",
    "freq = {}\n",
    "\n",
    "for num in nums:\n",
    "    freq[num] = freq.get(num, 0) + 1\n",
    "\n",
    "# Find element with highest frequency\n",
    "most_frequent = max(freq, key=freq.get)\n",
    "print(most_frequent)\n",
    "# Output: 1 (or 2 depending on order, both have freq 3)"
   ]
  },
  {
   "cell_type": "code",
   "execution_count": null,
   "id": "5b2aef3e",
   "metadata": {},
   "outputs": [],
   "source": []
  }
 ],
 "metadata": {
  "kernelspec": {
   "display_name": "agent",
   "language": "python",
   "name": "python3"
  },
  "language_info": {
   "codemirror_mode": {
    "name": "ipython",
    "version": 3
   },
   "file_extension": ".py",
   "mimetype": "text/x-python",
   "name": "python",
   "nbconvert_exporter": "python",
   "pygments_lexer": "ipython3",
   "version": "3.11.13"
  }
 },
 "nbformat": 4,
 "nbformat_minor": 5
}
