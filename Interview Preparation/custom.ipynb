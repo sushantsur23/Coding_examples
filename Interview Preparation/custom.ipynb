{
 "cells": [
  {
   "cell_type": "code",
   "execution_count": 30,
   "id": "1756f0be",
   "metadata": {},
   "outputs": [
    {
     "name": "stdout",
     "output_type": "stream",
     "text": [
      "updated dictionary is {'a': 1, 'b': 'N/A', 'c': 3, 'd': 'N/A'}\n"
     ]
    }
   ],
   "source": [
    "original_dict = {'a': 1, 'b': None, 'c': 3, 'd': None}\n",
    "new_dict={}\n",
    "\n",
    "for i,j in original_dict.items():\n",
    "    if j==None:\n",
    "        new_dict[i]='N/A'\n",
    "    else: new_dict[i]=j\n",
    "print(\"updated dictionary is\",new_dict)"
   ]
  },
  {
   "cell_type": "code",
   "execution_count": 3,
   "id": "57532a55",
   "metadata": {},
   "outputs": [
    {
     "name": "stdout",
     "output_type": "stream",
     "text": [
      "Original list [2, 3, 's', 'Null']\n",
      "New List [2, 3, 's', 'Nonull']\n"
     ]
    }
   ],
   "source": [
    "#Replacing nulls in a list\n",
    "\n",
    "old_list =[2,3,'s','Null']\n",
    "new_list=[]\n",
    "for i in old_list:\n",
    "    if i=='Null':\n",
    "        new_list.append('Nonull')\n",
    "    else:\n",
    "        new_list.append(i)\n",
    "\n",
    "print(\"Original list\",old_list)\n",
    "print(\"New List\",new_list)"
   ]
  },
  {
   "cell_type": "markdown",
   "id": "46f2af90",
   "metadata": {},
   "source": [
    "Reverse a string"
   ]
  },
  {
   "cell_type": "code",
   "execution_count": 7,
   "id": "0a7f6e5f",
   "metadata": {},
   "outputs": [],
   "source": [
    "\n",
    "s = 'hello'\n",
    "reversed_str = \"\"\n",
    "for char in s:\n",
    "    reversed_str = char + reversed_str\n"
   ]
  },
  {
   "cell_type": "code",
   "execution_count": 15,
   "id": "57a84ecf",
   "metadata": {},
   "outputs": [
    {
     "name": "stdout",
     "output_type": "stream",
     "text": [
      "{'t': 1, 'h': 1, 'e': 1, ' ': 3, 'd': 1, 'o': 1, 'g': 2, 'i': 2, 's': 1, 'b': 1, 'a': 1, 'r': 1, 'k': 1, 'n': 1}\n"
     ]
    }
   ],
   "source": [
    "s = \"the dog is barking\"\n",
    "doca={}\n",
    "for i in s:\n",
    "    if i in doca:\n",
    "        doca[i] += 1\n",
    "    else:\n",
    "        doca[i]=1\n",
    "\n",
    "print(doca)"
   ]
  },
  {
   "cell_type": "code",
   "execution_count": 21,
   "id": "8d379a96",
   "metadata": {},
   "outputs": [
    {
     "name": "stdout",
     "output_type": "stream",
     "text": [
      "Non repeating character is  t\n",
      "Non repeating character is  h\n",
      "Non repeating character is  e\n",
      "Non repeating character is  d\n",
      "Non repeating character is  o\n",
      "Non repeating character is  w\n",
      "Non repeating character is  s\n",
      "Non repeating character is  b\n",
      "Non repeating character is  r\n",
      "Non repeating character is  k\n",
      "Non repeating character is  i\n",
      "Non repeating character is  n\n"
     ]
    }
   ],
   "source": [
    "#Find out non repeating character\n",
    "s = \"the dog was barking\"\n",
    "d ={}\n",
    "for i in s:\n",
    "    if i in d:\n",
    "        d[i] += 1\n",
    "    else :\n",
    "        d[i]=1\n",
    "\n",
    "for x,y in d.items():\n",
    "    # print(y)\n",
    "    if y==1:\n",
    "        print(\"Non repeating character is \",x)"
   ]
  },
  {
   "cell_type": "code",
   "execution_count": 25,
   "id": "ad4d9baf",
   "metadata": {},
   "outputs": [
    {
     "name": "stdout",
     "output_type": "stream",
     "text": [
      "After removing duplicates string is ['t', 'h', 'e', 'd', 'o', 'g', 'i', 's', 'b', 'a', 'r', 'k', 'n']\n",
      "After removing duplicates string is thedogisbarkn\n"
     ]
    }
   ],
   "source": [
    "#Remove duplicates from string\n",
    "s = \"the dog is barking\"\n",
    "lst=[]\n",
    "s1=\"\"\n",
    "for i in s:\n",
    "    if i not in lst and i !=\" \":\n",
    "        lst.append(i)\n",
    "        s1=s1+i\n",
    "print(\"After removing duplicates string is\",lst)\n",
    "print(\"After removing duplicates string is\",s1)"
   ]
  },
  {
   "cell_type": "code",
   "execution_count": 44,
   "id": "2d70de64",
   "metadata": {},
   "outputs": [
    {
     "name": "stdout",
     "output_type": "stream",
     "text": [
      "he had the ball in the court\n"
     ]
    }
   ],
   "source": [
    "#Change \"has\" to \"had\"\n",
    "\n",
    "s=\"he has the ball in the court\"\n",
    "# if \"has\" in s:\n",
    "#     s =s.replace(\"has\",\"had\")\n",
    "# print(s)\n",
    "target =\"has\"\n",
    "achieve =\"had\"\n",
    "result=\"\"\n",
    "i=0\n",
    "while i<(len(s)):\n",
    "    if s[i:i+len(target)]==target:\n",
    "        result = result+achieve\n",
    "        i+=len(target)\n",
    "    else:\n",
    "        result= result+s[i]\n",
    "        i+=1\n",
    "print(result)"
   ]
  },
  {
   "cell_type": "code",
   "execution_count": null,
   "id": "71e6d04d",
   "metadata": {},
   "outputs": [
    {
     "name": "stdout",
     "output_type": "stream",
     "text": [
      "['23', '02', '1989']\n"
     ]
    }
   ],
   "source": [
    "#Print the repeated numbers in a string\n",
    "\n",
    "def extract_numbers(text):\n",
    "    numbers = []\n",
    "    current_num = \"\"\n",
    "    \n",
    "    for char in text:\n",
    "        if char.isdigit():\n",
    "            current_num += char\n",
    "        else:\n",
    "            if current_num:\n",
    "                numbers.append(current_num)\n",
    "                current_num = \"\"\n",
    "    \n",
    "    # Add the last number if the string ends with digits\n",
    "    if current_num:\n",
    "        numbers.append(current_num)\n",
    "    \n",
    "    return numbers\n",
    "\n",
    "# Test Case\n",
    "text = \"my email id is s.s23@gmail.com and my date of birth is 02 March 1989\"\n",
    "print(extract_numbers(text))  # Output: ['23', '02', '1989']"
   ]
  },
  {
   "cell_type": "code",
   "execution_count": 3,
   "id": "69e5c4ad",
   "metadata": {},
   "outputs": [],
   "source": [
    "!pip install pandas -q"
   ]
  },
  {
   "cell_type": "code",
   "execution_count": 4,
   "id": "c1b3ff40",
   "metadata": {},
   "outputs": [
    {
     "name": "stdout",
     "output_type": "stream",
     "text": [
      "Original DataFrame:\n",
      "  region product  sales  quantity\n",
      "0   East       A   1200         5\n",
      "1   West       B    800         3\n",
      "2   East       A   1500         7\n",
      "3  North       B    200         2\n",
      "4   West       A   1100         4\n",
      "5  North       A    900         6\n"
     ]
    }
   ],
   "source": [
    "import pandas as pd\n",
    "import numpy as np\n",
    "\n",
    "data = {\n",
    "    'region': ['East', 'West', 'East', 'North', 'West', 'North'],\n",
    "    'product': ['A', 'B', 'A', 'B', 'A', 'A'],\n",
    "    'sales': [1200, 800, 1500, 200, 1100, 900],\n",
    "    'quantity': [5, 3, 7, 2, 4, 6]\n",
    "}\n",
    "\n",
    "df = pd.DataFrame(data)\n",
    "print(\"Original DataFrame:\")\n",
    "print(df)"
   ]
  },
  {
   "cell_type": "code",
   "execution_count": null,
   "id": "243ee12b",
   "metadata": {},
   "outputs": [
    {
     "name": "stdout",
     "output_type": "stream",
     "text": [
      "Filtered Dataframe is \n",
      "   region product  sales  quantity\n",
      "0   East       A   1200         5\n",
      "2   East       A   1500         7\n",
      "Filtered rows are \n",
      "   region product  sales  quantity\n",
      "0   East       A   1200         5\n",
      "2   East       A   1500         7\n",
      "4   West       A   1100         4\n"
     ]
    }
   ],
   "source": [
    "filtered_df = df[(df['sales'] > 1000) & (df['region'] == 'East')]\n",
    "\n",
    "print(\"Filtered Dataframe is \\n\", filtered_df)\n",
    "#Rows Filter\n",
    "filtered_rows = df.query('sales > 1000')\n",
    "print(\"Filtered rows are \\n\",filtered_rows)"
   ]
  },
  {
   "cell_type": "code",
   "execution_count": 17,
   "id": "f68ec850",
   "metadata": {},
   "outputs": [
    {
     "name": "stdout",
     "output_type": "stream",
     "text": [
      "\n",
      "Total sales per region:\n",
      "  region  total_sales\n",
      "0   East         2700\n",
      "1  North         1100\n",
      "2   West         1900\n"
     ]
    }
   ],
   "source": [
    "sum_by_region = df.groupby('region')['sales'].sum().reset_index(name='total_sales')\n",
    "print(\"\\nTotal sales per region:\")\n",
    "print(sum_by_region)"
   ]
  },
  {
   "cell_type": "code",
   "execution_count": 12,
   "id": "85c0f730",
   "metadata": {},
   "outputs": [
    {
     "name": "stdout",
     "output_type": "stream",
     "text": [
      "\n",
      "Average metrics per product:\n",
      "  product  avg_sales  avg_quantity\n",
      "0       A     1175.0           5.5\n",
      "1       B      500.0           2.5\n"
     ]
    }
   ],
   "source": [
    "avg_by_product = df.groupby('product').agg(avg_sales=('sales', 'mean'),avg_quantity=('quantity', 'mean')\n",
    ").reset_index()\n",
    "print(\"\\nAverage metrics per product:\")\n",
    "print(avg_by_product)"
   ]
  },
  {
   "cell_type": "code",
   "execution_count": 13,
   "id": "9763f6ae",
   "metadata": {},
   "outputs": [
    {
     "name": "stdout",
     "output_type": "stream",
     "text": [
      "\n",
      "Chained Operations (Quantity >=4):\n",
      "  product  total_sales  avg_quantity\n",
      "0       A         4700           5.5\n"
     ]
    }
   ],
   "source": [
    "result = (\n",
    "    df[df['quantity'] >= 4]\n",
    "    .groupby('product')\n",
    "    .agg(total_sales=('sales', 'sum'), avg_quantity=('quantity', 'mean'))\n",
    "    .reset_index()\n",
    ")\n",
    "print(\"\\nChained Operations (Quantity >=4):\")\n",
    "print(result)"
   ]
  },
  {
   "cell_type": "code",
   "execution_count": null,
   "id": "e4f93901",
   "metadata": {},
   "outputs": [
    {
     "name": "stdout",
     "output_type": "stream",
     "text": [
      "\n",
      "Total sales per region:\n",
      "  product region  total_sales\n",
      "0       A   East         2700\n",
      "1       A   West         1100\n",
      "2       A  North          900\n",
      "3       B   West          800\n",
      "4       B  North          200\n",
      "  product region  total_sales\n",
      "0       A   East         2700\n"
     ]
    }
   ],
   "source": [
    "sum_by_region = df.groupby(['product','region'])['sales'].sum().sort_values(ascending=False).reset_index(name='total_sales')\n",
    "print(\"\\nTotal sales per region:\")\n",
    "print(sum_by_region)\n",
    "\n",
    "#highlighting highest sales\n",
    "max_sales_row = sum_by_region.nlargest(1, 'total_sales')\n",
    "print(max_sales_row)"
   ]
  },
  {
   "cell_type": "code",
   "execution_count": 27,
   "id": "80952c8a",
   "metadata": {},
   "outputs": [
    {
     "name": "stdout",
     "output_type": "stream",
     "text": [
      "  region product  sales  quantity\n",
      "3  North       B    200         2\n"
     ]
    }
   ],
   "source": [
    "min_sales_rows = df[df['sales'] == df['sales'].min()]\n",
    "print(min_sales_rows)"
   ]
  },
  {
   "cell_type": "code",
   "execution_count": 31,
   "id": "a23cede3",
   "metadata": {},
   "outputs": [
    {
     "name": "stdout",
     "output_type": "stream",
     "text": [
      "[1, 2, 9, 4, 25, 6]\n"
     ]
    }
   ],
   "source": [
    "#Using Lambda function\n",
    "\n",
    "#Odd numbers squared, even numbers unchanged\n",
    "\n",
    "numbers = [1, 2, 3, 4, 5, 6]\n",
    "result = [(lambda x: x ** 2 if x % 2 != 0 else x)(num) for num in numbers]\n",
    "print(result)"
   ]
  },
  {
   "cell_type": "code",
   "execution_count": null,
   "id": "ce9dac29",
   "metadata": {},
   "outputs": [
    {
     "name": "stdout",
     "output_type": "stream",
     "text": [
      "New string is  the dog is barking\n"
     ]
    }
   ],
   "source": [
    "#Remove all the duplicate chacters which are in continuous next to each other\n",
    "s = \"tttthhheee  dddog is bbbaaarrkinnng\"\n",
    "new_s=\"\"\n",
    "for i in s:\n",
    "    if len(new_s)==0:\n",
    "        new_s+=i\n",
    "    elif i != new_s[-1]:\n",
    "        new_s+=i\n",
    "print(\"New string is \",new_s)"
   ]
  },
  {
   "cell_type": "code",
   "execution_count": null,
   "id": "1d4bc824",
   "metadata": {},
   "outputs": [
    {
     "data": {
      "text/plain": [
       "'g'"
      ]
     },
     "execution_count": 33,
     "metadata": {},
     "output_type": "execute_result"
    }
   ],
   "source": []
  },
  {
   "cell_type": "code",
   "execution_count": null,
   "id": "f3c0c605",
   "metadata": {},
   "outputs": [],
   "source": []
  }
 ],
 "metadata": {
  "kernelspec": {
   "display_name": "Python 3",
   "language": "python",
   "name": "python3"
  },
  "language_info": {
   "codemirror_mode": {
    "name": "ipython",
    "version": 3
   },
   "file_extension": ".py",
   "mimetype": "text/x-python",
   "name": "python",
   "nbconvert_exporter": "python",
   "pygments_lexer": "ipython3",
   "version": "3.10.12"
  }
 },
 "nbformat": 4,
 "nbformat_minor": 5
}
