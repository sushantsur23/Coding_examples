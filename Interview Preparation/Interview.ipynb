{
 "cells": [
  {
   "cell_type": "markdown",
   "id": "197510aa",
   "metadata": {},
   "source": [
    "QUestions on Ordered dictionary and Decoratoe works?\n"
   ]
  },
  {
   "cell_type": "code",
   "execution_count": null,
   "id": "f805786c",
   "metadata": {},
   "outputs": [],
   "source": [
    "arr = [1,2,3,4,5]\n",
    "arr1 = [4,5,1,2,3]\n",
    "arr2 = []\n",
    "print(arr[:-2])\n",
    "print(arr[-2:])\n",
    "print(arr[-2:]+arr[:-2])\n",
    "def func(arr,k):\n",
    "    print(\"Result is\")\n",
    "    print(arr[-k:]+arr[:-k])\n"
   ]
  }
 ],
 "metadata": {
  "language_info": {
   "name": "python"
  }
 },
 "nbformat": 4,
 "nbformat_minor": 5
}
